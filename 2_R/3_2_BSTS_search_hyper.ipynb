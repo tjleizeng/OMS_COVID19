{
 "cells": [
  {
   "cell_type": "code",
   "execution_count": null,
   "id": "68d2feac-62c8-43b5-9951-896055636e36",
   "metadata": {},
   "outputs": [],
   "source": [
    "import pandas as pd\n",
    "import numpy as np\n",
    "import geopandas as gp\n",
    "from datetime import datetime\n",
    "from datetime import date\n",
    "import calendar\n",
    "import matplotlib.pyplot as plt\n",
    "import matplotlib.patches as patches\n",
    "import matplotlib\n",
    "from multiprocessing import Pool\n",
    "# from haversine import haversine\n",
    "from textwrap import wrap\n",
    "import os.path\n",
    "import json\n",
    "import pickle\n",
    "import zipfile\n",
    "import seaborn as sns\n",
    "from functools import partial\n",
    "import matplotlib.collections as mcoll\n",
    "import matplotlib.path as mpath\n",
    "# import contextily as ctx\n",
    "\n",
    "from matplotlib import animation\n",
    "from matplotlib.animation import FuncAnimation, PillowWriter \n",
    "\n",
    "%matplotlib inline"
   ]
  },
  {
   "cell_type": "code",
   "execution_count": null,
   "id": "5fb7fa19-d541-4c05-8aee-422151106f78",
   "metadata": {},
   "outputs": [],
   "source": [
    "df = pd.read_csv(\"nyc_cv_res_local_level.csv\")\n",
    "\n",
    "# find the parameters for each ind\n",
    "\n",
    "df_res = list()\n",
    "for ind in range(1,11):\n",
    "    df_tmp = df[(df['ind']==ind)]\n",
    "    df_tmp = df_tmp[df_tmp['sigma_max']<=4**-3]\n",
    "    select_row = df_tmp[df_tmp['mse']==df_tmp.mse.min()]\n",
    "    df_res.append(select_row.values[0])\n",
    "\n",
    "df_res = pd.DataFrame(columns= df_tmp.columns, data =df_res)\n",
    "df_res.to_csv(\"nyc_parameters.csv\", index=None)"
   ]
  },
  {
   "cell_type": "code",
   "execution_count": null,
   "id": "b97d179c-eea9-46b7-bc45-d5dd098b6bb3",
   "metadata": {},
   "outputs": [],
   "source": [
    "df = pd.read_csv(\"nyc_cv_res_linear_trend.csv\")\n",
    "\n",
    "# find the parameters for each ind\n",
    "\n",
    "df_res = list()\n",
    "for ind in range(1,11):\n",
    "    df_tmp = df[(df['ind']==ind)]\n",
    "    df_tmp = df_tmp[(df_tmp['sigma_max']<=4**-4)&(df_tmp['slope_sigma_max']<=4**-8)]\n",
    "    select_row = df_tmp[df_tmp['mse']==df_tmp.mse.min()]\n",
    "    df_res.append(select_row.values[0])\n",
    "\n",
    "df_res = pd.DataFrame(columns= df_tmp.columns, data =df_res)\n",
    "df_res.to_csv(\"nyc_parameters2.csv\", index=None)"
   ]
  },
  {
   "cell_type": "code",
   "execution_count": null,
   "id": "575c1774-e232-4ad1-a51a-7716a312113f",
   "metadata": {},
   "outputs": [],
   "source": [
    "df = pd.read_csv(\"chicago_cv_res_local_level.csv\")\n",
    "\n",
    "# find the parameters for each ind\n",
    "\n",
    "df_res = list()\n",
    "for ind in range(1,11):\n",
    "    df_tmp = df[(df['ind']==ind)]\n",
    "    df_tmp = df_tmp[df_tmp['sigma_max']<=4**-4]\n",
    "    select_row = df_tmp[df_tmp['mse']==df_tmp.mse.min()]\n",
    "    df_res.append(select_row.values[0])\n",
    "    \n",
    "df_res = pd.DataFrame(columns= df_tmp.columns, data =df_res)\n",
    "df_res.to_csv(\"chicago_parameters.csv\", index=None)"
   ]
  },
  {
   "cell_type": "code",
   "execution_count": null,
   "id": "1f5e5dbe-cd64-4c03-84e2-7447031ccb1a",
   "metadata": {},
   "outputs": [],
   "source": [
    "df = pd.read_csv(\"chicago_cv_res_linear_trend.csv\")\n",
    "\n",
    "# find the parameters for each ind\n",
    "\n",
    "df_res = list()\n",
    "for ind in range(1,11):\n",
    "    df_tmp = df[(df['ind']==ind)]\n",
    "    df_tmp = df_tmp[(df_tmp['sigma_max']<=4**-4)&(df_tmp['slope_sigma_max']<=4**-8)]\n",
    "    select_row = df_tmp[df_tmp['mse']==df_tmp.mse.min()]\n",
    "    df_res.append(select_row.values[0])\n",
    "    \n",
    "df_res = pd.DataFrame(columns= df_tmp.columns, data =df_res)\n",
    "df_res.to_csv(\"chicago_parameters2.csv\", index=None)"
   ]
  }
 ],
 "metadata": {
  "kernelspec": {
   "display_name": "Python 3",
   "language": "python",
   "name": "python3"
  },
  "language_info": {
   "codemirror_mode": {
    "name": "ipython",
    "version": 3
   },
   "file_extension": ".py",
   "mimetype": "text/x-python",
   "name": "python",
   "nbconvert_exporter": "python",
   "pygments_lexer": "ipython3",
   "version": "3.8.0"
  }
 },
 "nbformat": 4,
 "nbformat_minor": 5
}
